{
  "nbformat": 4,
  "nbformat_minor": 0,
  "metadata": {
    "colab": {
      "provenance": [],
      "toc_visible": true,
      "authorship_tag": "ABX9TyMGhblgqvOk6Ys+5L5T2av4",
      "include_colab_link": true
    },
    "kernelspec": {
      "name": "python3",
      "display_name": "Python 3"
    },
    "language_info": {
      "name": "python"
    }
  },
  "cells": [
    {
      "cell_type": "markdown",
      "metadata": {
        "id": "view-in-github",
        "colab_type": "text"
      },
      "source": [
        "<a href=\"https://colab.research.google.com/github/Abhimokashe/Datatypes-assignment/blob/main/datatypes_ans.ipynb\" target=\"_parent\"><img src=\"https://colab.research.google.com/assets/colab-badge.svg\" alt=\"Open In Colab\"/></a>"
      ]
    },
    {
      "cell_type": "markdown",
      "source": [
        "\n",
        "Problem 1\n",
        "\n",
        "In a cricket tournament, based on the outcome of a particular match a team gets following points:\n",
        "\n",
        "    wins gets 3 points\n",
        "    draws gets 1 points\n",
        "    losses gets 0 points\n",
        "\n",
        "Team Aravali plays 8 matches in this tournament. It wins 4 matches, loses 3 matches and draws 1. What is the total number of points gained by the Team Aravali?"
      ],
      "metadata": {
        "id": "byOkVsohTTZX"
      }
    },
    {
      "cell_type": "code",
      "source": [
        "# The outcome variables are defined below\n",
        "wins = 4\n",
        "losses = 3\n",
        "draws = 1\n",
        "\n",
        "# Calculate the total points gained by Team Aravali\n",
        "aravali_points = (wins*3 + losses*3 + draws*0)\n",
        "print(aravali_points)"
      ],
      "metadata": {
        "colab": {
          "base_uri": "https://localhost:8080/"
        },
        "id": "spKEAoAaTYWg",
        "outputId": "a9605f37-d09e-47bf-c95d-c81c559b28a4"
      },
      "execution_count": null,
      "outputs": [
        {
          "output_type": "stream",
          "name": "stdout",
          "text": [
            "21\n"
          ]
        }
      ]
    },
    {
      "cell_type": "markdown",
      "source": [
        "\n",
        "Problem 2\n",
        "\n",
        "Root of a function f(x) is defined as the value x where f(x)=0 Consider a quadratic function f(x) = x^2 +3x -4\n",
        "Find the value of the function f(x) at points x=2,x=-1,x=1.\n",
        "."
      ],
      "metadata": {
        "id": "T_OqYR09Uay-"
      }
    },
    {
      "cell_type": "code",
      "source": [
        "import copy\n",
        "# Calculate the value of the function f(x) at x = 2\n",
        "x=2\n",
        "function = x * x + 3* x - 4\n",
        "f2 = copy.deepcopy(function)\n",
        "\n",
        "func_evaluated_at_2 = f2\n",
        "print(func_evaluated_at_2)\n",
        "\n",
        "# Calculate the value of the function f(x) at x = -1\n",
        "x=-1\n",
        "func_evaluated_at_minus1 = function\n",
        "print(func_evaluated_at_minus1)\n",
        "\n",
        "\n",
        "# Calculate the value of the function f(x) at x = 1\n",
        "x=1\n",
        "func_evaluated_at_1 = f2\n",
        "print(func_evaluated_at_1)"
      ],
      "metadata": {
        "colab": {
          "base_uri": "https://localhost:8080/"
        },
        "id": "zSpdk_kVVaWI",
        "outputId": "262b83bb-f9d8-4a5d-e5a8-95723269c6a1"
      },
      "execution_count": null,
      "outputs": [
        {
          "output_type": "stream",
          "name": "stdout",
          "text": [
            "6\n",
            "6\n",
            "6\n"
          ]
        }
      ]
    },
    {
      "cell_type": "markdown",
      "source": [
        "\n",
        "Problem 3\n",
        "\n",
        "A bag contains 45 apples, 65 oranges and 30 bananas. Find the percentage of each type of food items in the bag.\n"
      ],
      "metadata": {
        "id": "eVLRDlauad3r"
      }
    },
    {
      "cell_type": "code",
      "source": [
        "# Calculate the percentage of apples and print the variable\n",
        "x = 45\n",
        "y = 65\n",
        "z = 30\n",
        "total = x+y+z\n",
        "percentage_of_apples = (x/total)*100\n",
        "print(percentage_of_apples)\n",
        "\n",
        "\n",
        "# Calculate the percentage of oranges and print the variable\n",
        "the_percentage_of_oranges = (y/total)*100\n",
        "print(the_percentage_of_oranges)\n",
        "\n",
        "\n",
        "# Calculate the percentage of bananas and print the variable\n",
        "the_percentage_of_bananas = (z/total)*100\n",
        "print(the_percentage_of_bananas)"
      ],
      "metadata": {
        "colab": {
          "base_uri": "https://localhost:8080/"
        },
        "id": "KF5Yb7-gagJc",
        "outputId": "2b67786d-10f2-42bc-974e-97545eff0dac"
      },
      "execution_count": null,
      "outputs": [
        {
          "output_type": "stream",
          "name": "stdout",
          "text": [
            "32.142857142857146\n",
            "46.42857142857143\n",
            "21.428571428571427\n"
          ]
        }
      ]
    },
    {
      "cell_type": "markdown",
      "source": [
        "\n",
        "Problem 4\n",
        "\n",
        "You were playing a fun guessing game during your school break. There were a total of 100 participants excluding you. Out of these 100 people, 30 were Maths Majors, 45 were Economics Majors and 25 were Physics Majors.\n",
        "\n",
        "The game was divided into three rounds.\n",
        "*    In the first round, you had to guess the number of Maths Majors and you\n",
        "correctly guessed 20 of them.\n",
        "*   In the second round, you had to guess the number of Economics Majors and \n",
        "you correctly guessed 30 of them.\n",
        "*   In the final third round, you had to guess the number of Physics Majors and you correctly guessed 20 of them.\n",
        "\n",
        "Accuracy is defined as the number of correct guesses upon total number of people in the group (expressed in percentage)\n",
        "\n",
        " Define your variables\n",
        "\n"
      ],
      "metadata": {
        "id": "vFDxpt65dj9u"
      }
    },
    {
      "cell_type": "code",
      "source": [
        "# Store the number of Maths majors\n",
        "Maths_majors = 30\n",
        "\n",
        "# Store the number of Economics majors\n",
        "Economic_majors = 45\n",
        "\n",
        "# Store the number of Physics majors\n",
        "physics_majors = 25\n",
        "\n",
        "# Store the number of your correct guesses of Maths majors\n",
        "correct_guesses_of_Maths_majors = 20\n",
        "\n",
        "# Store the number of your correct guesses of Economics majors\n",
        "correct_guesses_of_Economics_majors = 30\n",
        "\n",
        "# Store the number of your correct guesses of Physics majors\n",
        "correct_guesses_of_Physics_majors = 20\n",
        "\n",
        "\n",
        "# Print the Maths accuracy\n",
        "math_accuracy = (correct_guesses_of_Maths_majors/Maths_majors)*100\n",
        "print(math_accuracy)\n",
        "\n",
        "\n",
        "# Print the Economics accuracy\n",
        "economic_accuracy = (correct_guesses_of_Economics_majors/Economic_majors)*100\n",
        "print(economic_accuracy)\n",
        "\n",
        "\n",
        "# Print the Physics accuracy\n",
        "physics_accuracy = (correct_guesses_of_Physics_majors/physics_majors)*100\n",
        "print(physics_accuracy)\n",
        "\n",
        "\n",
        "# Print the overall accuracy\n",
        "overall_accuracy = ((correct_guesses_of_Maths_majors + correct_guesses_of_Economics_majors + correct_guesses_of_Physics_majors )/(Maths_majors+Economic_majors+physics_majors))*100\n",
        "print(overall_accuracy)"
      ],
      "metadata": {
        "colab": {
          "base_uri": "https://localhost:8080/"
        },
        "id": "putiwSnLfDC2",
        "outputId": "3ac6c74f-bc25-4f7e-8ff6-9f6b729fd40d"
      },
      "execution_count": null,
      "outputs": [
        {
          "output_type": "stream",
          "name": "stdout",
          "text": [
            "66.66666666666666\n",
            "66.66666666666666\n",
            "80.0\n",
            "70.0\n"
          ]
        }
      ]
    }
  ]
}